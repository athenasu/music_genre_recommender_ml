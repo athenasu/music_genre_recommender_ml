{
 "cells": [
  {
   "cell_type": "code",
   "execution_count": 22,
   "metadata": {},
   "outputs": [
    {
     "data": {
      "text/plain": [
       "1.0"
      ]
     },
     "execution_count": 22,
     "metadata": {},
     "output_type": "execute_result"
    }
   ],
   "source": [
    "import pandas as pd\n",
    "from sklearn.tree import DecisionTreeClassifier\n",
    "from sklearn.model_selection import train_test_split\n",
    "from sklearn.metrics import accuracy_score\n",
    "\n",
    "# read file\n",
    "music_data = pd.read_csv('music.csv')\n",
    "\n",
    "# we need to separate the 'genre' column from the rest as it is the output data\n",
    "X = music_data.drop(columns = ['genre'])\n",
    "\n",
    "# put genre into axis y for output\n",
    "y = music_data['genre']\n",
    "\n",
    "# split data, will return a tuple which we can unpack\n",
    "X_train, X_test, y_train, y_test = train_test_split(X, y, test_size = 0.2)\n",
    "\n",
    "# use decision tree model to provide predictions\n",
    "model = DecisionTreeClassifier()\n",
    "# model.fit(X, y) # model.fit(input, output)\n",
    "model.fit(X_train, y_train) \n",
    "# predictions = model.predict([[21, 1], [22, 0]])\n",
    "predictions = model.predict(X_test)\n",
    "\n",
    "# calculate the accuracy of the predictions, usually 75% - 80% of data is for training and 20% is for testing\n",
    "score = accuracy_score(y_test, predictions)\n",
    "score"
   ]
  },
  {
   "cell_type": "code",
   "execution_count": 25,
   "metadata": {},
   "outputs": [
    {
     "data": {
      "text/plain": [
       "['music-recommender.joblib']"
      ]
     },
     "execution_count": 25,
     "metadata": {},
     "output_type": "execute_result"
    }
   ],
   "source": [
    "# persist and load models by not retraining your model every time you want to make a prediction\n",
    "# so we can use the joblib function to export in binary the already trained data\n",
    "import joblib\n",
    "music_data = pd.read_csv('music.csv')\n",
    "X = music_data.drop(columns = ['genre'])\n",
    "y = music_data['genre']\n",
    "\n",
    "model = DecisionTreeClassifier()\n",
    "model.fit(X, y)\n",
    "\n",
    "joblib.dump(model, 'music-recommender.joblib')"
   ]
  },
  {
   "cell_type": "code",
   "execution_count": 26,
   "metadata": {},
   "outputs": [
    {
     "data": {
      "text/plain": [
       "array(['HipHop'], dtype=object)"
      ]
     },
     "execution_count": 26,
     "metadata": {},
     "output_type": "execute_result"
    }
   ],
   "source": [
    "# then, if we need predictions, we can just load the model instead of retraining it with the same data\n",
    "model = joblib.load('music-recommender.joblib')\n",
    "predictions = model.predict([[22, 1]])\n",
    "predictions"
   ]
  },
  {
   "cell_type": "code",
   "execution_count": 27,
   "metadata": {},
   "outputs": [],
   "source": [
    "# see how DecisionTrees work\n",
    "from sklearn import tree\n",
    "music_data = pd.read_csv('music.csv')\n",
    "X = music_data.drop(columns = ['genre'])\n",
    "y = music_data['genre']\n",
    "\n",
    "model = DecisionTreeClassifier()\n",
    "model.fit(X, y)\n",
    "\n",
    "tree.export_graphviz(model,\n",
    "                     out_file = 'music_recommender.dot',\n",
    "                     feature_names = ['age', 'gender'],\n",
    "                     class_names = sorted(y.unique()),\n",
    "                     label = 'all',\n",
    "                     filled = True,\n",
    "                     rounded = True)"
   ]
  },
  {
   "cell_type": "code",
   "execution_count": null,
   "metadata": {},
   "outputs": [],
   "source": []
  }
 ],
 "metadata": {
  "kernelspec": {
   "display_name": "Python 3",
   "language": "python",
   "name": "python3"
  },
  "language_info": {
   "codemirror_mode": {
    "name": "ipython",
    "version": 3
   },
   "file_extension": ".py",
   "mimetype": "text/x-python",
   "name": "python",
   "nbconvert_exporter": "python",
   "pygments_lexer": "ipython3",
   "version": "3.8.5"
  }
 },
 "nbformat": 4,
 "nbformat_minor": 4
}
